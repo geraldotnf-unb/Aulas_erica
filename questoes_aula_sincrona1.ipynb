{
  "cells": [
    {
      "cell_type": "markdown",
      "metadata": {
        "id": "view-in-github",
        "colab_type": "text"
      },
      "source": [
        "<a href=\"https://colab.research.google.com/github/geraldotnf-unb/Aulas_erica/blob/main/questoes_aula_sincrona1.ipynb\" target=\"_parent\"><img src=\"https://colab.research.google.com/assets/colab-badge.svg\" alt=\"Open In Colab\"/></a>"
      ]
    },
    {
      "cell_type": "markdown",
      "metadata": {
        "id": "GVjxhEAfSdpm"
      },
      "source": [
        "Questão 1. Faça uma função que receba como parâmetro uma lista e retorne True apenas se todos os valores da lista forem None."
      ]
    },
    {
      "cell_type": "code",
      "execution_count": null,
      "metadata": {
        "id": "M603ebFSSdpx"
      },
      "outputs": [],
      "source": []
    },
    {
      "cell_type": "markdown",
      "metadata": {
        "id": "AzQVO7yISdpy"
      },
      "source": [
        "<p>\n",
        "Questão 2. Crie uma matriz com as seguintes características: ,<br>\n",
        "&nbsp;&nbsp;&nbsp;- Todos os seus termos devem ser None;<br>\n",
        "&nbsp;&nbsp;&nbsp;- Cada linha representa um horário na grade horária;<br>\n",
        "&nbsp;&nbsp;&nbsp;- Cada coluna representa um dia da semana de segunda a sábado.\n",
        "</p>"
      ]
    },
    {
      "cell_type": "code",
      "execution_count": null,
      "metadata": {
        "id": "M73S_S0JSdp0"
      },
      "outputs": [],
      "source": []
    },
    {
      "cell_type": "markdown",
      "metadata": {
        "id": "Cp4a3FkpSdp1"
      },
      "source": [
        "Questão 3. Faça um código que seja capaz de percorrer a matriz obtida no item 1  e que adicione a matéria \"CIC00292\" todas as vezes que o indice for um múltiplo de 2."
      ]
    },
    {
      "cell_type": "code",
      "execution_count": null,
      "metadata": {
        "id": "qbKD-n0sSdp2"
      },
      "outputs": [],
      "source": []
    },
    {
      "cell_type": "markdown",
      "metadata": {
        "id": "AxOsak_9Sdp3"
      },
      "source": [
        "Questão 4. Faça um código que seja capaz de percorrer a matriz resultante do item anterior e que remova a matéria \"CIC00292\" todas as vezes que o indice for um múltiplo de 4."
      ]
    },
    {
      "cell_type": "code",
      "execution_count": null,
      "metadata": {
        "id": "g8OxSekKSdp5"
      },
      "outputs": [],
      "source": []
    },
    {
      "cell_type": "markdown",
      "metadata": {
        "id": "V8adlFskSdp6"
      },
      "source": [
        "<p>\n",
        "Questão 5. Faça uma função que receba uma instrução do tipo DTH (dias, turno e horários) e seja capaz de separar os dias em uma lista simples, o turno e os horários em uma lista simples.<br><br>\n",
        "Exemplos:<br>\n",
        "&nbsp;&nbsp;&nbsp;3N1 -> lista_dias = [3], turno = N, lista_horarios = [1]<br>\n",
        "&nbsp;&nbsp;&nbsp;246T12 -> lista_dias = [2, 4, 6], turno = T, lista_horarios = [1, 2]<br>\n",
        "&nbsp;&nbsp;&nbsp;2M1234 -> lista_dias = [2], turno = M, lista_horarios = [1, 2, 3, 4]\n",
        "</p>\n"
      ]
    },
    {
      "cell_type": "code",
      "execution_count": null,
      "metadata": {
        "id": "m0xhF7aySdp7"
      },
      "outputs": [],
      "source": []
    }
  ],
  "metadata": {
    "kernelspec": {
      "display_name": "Python 3",
      "language": "python",
      "name": "python3"
    },
    "language_info": {
      "codemirror_mode": {
        "name": "ipython",
        "version": 3
      },
      "file_extension": ".py",
      "mimetype": "text/x-python",
      "name": "python",
      "nbconvert_exporter": "python",
      "pygments_lexer": "ipython3",
      "version": "3.10.12"
    },
    "colab": {
      "provenance": [],
      "include_colab_link": true
    }
  },
  "nbformat": 4,
  "nbformat_minor": 0
}